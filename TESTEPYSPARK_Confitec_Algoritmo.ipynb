{
  "nbformat": 4,
  "nbformat_minor": 0,
  "metadata": {
    "colab": {
      "provenance": [],
      "collapsed_sections": []
    },
    "kernelspec": {
      "name": "python3",
      "display_name": "Python 3"
    },
    "language_info": {
      "name": "python"
    }
  },
  "cells": [
    {
      "cell_type": "markdown",
      "source": [
        "# Algoritmo programado sem Funções do Numpy"
      ],
      "metadata": {
        "id": "oNCTk6-Fr6Wy"
      }
    },
    {
      "cell_type": "markdown",
      "source": [
        "### Funções para gerar matriz e produto"
      ],
      "metadata": {
        "id": "5Anxnq2au_2w"
      }
    },
    {
      "cell_type": "code",
      "source": [
        "import numpy as np "
      ],
      "metadata": {
        "id": "MS5U7X3nF_B_"
      },
      "execution_count": 18,
      "outputs": []
    },
    {
      "cell_type": "code",
      "source": [
        "# Gerador de Matriz aleatória\n",
        "def gerador():\n",
        "  matriz = []\n",
        "  for i in range(5):\n",
        "    temp = []\n",
        "    for i in range(5):\n",
        "      rand = np.random.randint(9)\n",
        "      temp.append(rand)\n",
        "    matriz.append(temp)\n",
        "    temp = []\n",
        "  return matriz  \n",
        "\n",
        "# Transforma Matriz B na transposta de B\n",
        "def transposta(m_b):\n",
        "  aux = []\n",
        "  for i in range(len(m_b)):\n",
        "    temp = []\n",
        "    for j in range(len(m_b)):\n",
        "      pos2 = m_b[j]\n",
        "      temp.append(pos2[i])\n",
        "    aux.append(temp)\n",
        "  return aux\n",
        "\n",
        "# Multiplicação das matrizes\n",
        "# m_a e m_aux sao variaveis locais para Matriz A e Matriz aux (Matriz B transposta)\n",
        "def multiplicacao(m_a,m_aux):\n",
        "  prod = []\n",
        "  for i in range(len(m_a)):\n",
        "    temp = []\n",
        "    pos1 = m_a[i]\n",
        "    c = 0\n",
        "    for j in range(len(m_aux)):\n",
        "      pos2 = m_aux[j]\n",
        "      for k in range(len(m_aux)):\n",
        "        c += (pos1[k]*pos2[k])\n",
        "      temp.append(c)\n",
        "      c = 0\n",
        "    prod.append(temp)\n",
        "  return prod"
      ],
      "metadata": {
        "id": "9JBimZU8i_9H"
      },
      "execution_count": 19,
      "outputs": []
    },
    {
      "cell_type": "markdown",
      "source": [
        "### Algoritmo"
      ],
      "metadata": {
        "id": "c-q_bFdMqW-i"
      }
    },
    {
      "cell_type": "code",
      "source": [
        "matriz_a = gerador()\n",
        "matriz_b = gerador()\n",
        "matriz_aux = transposta(matriz_b)\n",
        "multi = multiplicacao(matriz_a,matriz_aux)\n",
        "\n",
        "print('Matriz A')\n",
        "print(np.array(matriz_a))\n",
        "print('\\nMatriz B')\n",
        "print(np.array(matriz_b))\n",
        "print('\\nProduto')\n",
        "print(np.array(multi))"
      ],
      "metadata": {
        "colab": {
          "base_uri": "https://localhost:8080/"
        },
        "id": "Tp6gK-LUjVBl",
        "outputId": "0fe91181-f21e-4f2b-afae-a8691e8e8679"
      },
      "execution_count": 20,
      "outputs": [
        {
          "output_type": "stream",
          "name": "stdout",
          "text": [
            "Matriz A\n",
            "[[6 2 3 6 3]\n",
            " [0 6 7 5 5]\n",
            " [1 2 7 6 0]\n",
            " [0 0 1 8 8]\n",
            " [3 2 4 5 4]]\n",
            "\n",
            "Matriz B\n",
            "[[2 4 4 7 5]\n",
            " [5 4 2 1 5]\n",
            " [7 0 3 6 7]\n",
            " [0 2 7 1 8]\n",
            " [2 5 5 3 2]]\n",
            "\n",
            "Produto\n",
            "[[ 49  59  94  77 115]\n",
            " [ 89  59  93  68 129]\n",
            " [ 61  24  71  57 112]\n",
            " [ 23  56  99  38  87]\n",
            " [ 52  50  83  64 101]]\n"
          ]
        }
      ]
    },
    {
      "cell_type": "markdown",
      "source": [
        "# Algoritmo programado com Funções do Numpy"
      ],
      "metadata": {
        "id": "cAIKqXg7sENQ"
      }
    },
    {
      "cell_type": "code",
      "source": [
        "matriz_a = np.random.randint(9, size=(5, 5)) \n",
        "matriz_b = np.random.randint(9, size=(5, 5))\n",
        "multi = np.matmul(matriz_a,matriz_b)"
      ],
      "metadata": {
        "id": "k7M7d9pntxjO"
      },
      "execution_count": 21,
      "outputs": []
    },
    {
      "cell_type": "code",
      "source": [
        "print('Matriz A')\n",
        "print(matriz_a)\n",
        "print('\\nMatriz B')\n",
        "print(matriz_b)\n",
        "print('\\nProduto')\n",
        "print(multi)"
      ],
      "metadata": {
        "colab": {
          "base_uri": "https://localhost:8080/"
        },
        "id": "W1cirNRFsVtC",
        "outputId": "6dc9b04f-6bee-4368-c208-fd8c1e025174"
      },
      "execution_count": 22,
      "outputs": [
        {
          "output_type": "stream",
          "name": "stdout",
          "text": [
            "Matriz A\n",
            "[[7 7 2 3 0]\n",
            " [3 6 5 0 2]\n",
            " [8 7 8 8 8]\n",
            " [3 6 3 5 7]\n",
            " [8 6 2 7 2]]\n",
            "\n",
            "Matriz B\n",
            "[[8 8 3 3 7]\n",
            " [7 3 1 2 2]\n",
            " [6 8 3 0 2]\n",
            " [2 1 3 2 8]\n",
            " [7 7 4 8 4]]\n",
            "\n",
            "Produto\n",
            "[[123  96  43  41  91]\n",
            " [110  96  38  37  51]\n",
            " [233 213 111 118 182]\n",
            " [143 120  67  87 107]\n",
            " [146 119  65  66 136]]\n"
          ]
        }
      ]
    }
  ]
}