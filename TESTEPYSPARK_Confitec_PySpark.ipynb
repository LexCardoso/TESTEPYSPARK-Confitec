{
  "nbformat": 4,
  "nbformat_minor": 0,
  "metadata": {
    "colab": {
      "provenance": [],
      "collapsed_sections": [
        "rwDlzX88epvz"
      ]
    },
    "kernelspec": {
      "name": "python3",
      "display_name": "Python 3"
    },
    "language_info": {
      "name": "python"
    }
  },
  "cells": [
    {
      "cell_type": "markdown",
      "source": [
        "## Configuração inicial"
      ],
      "metadata": {
        "id": "Ohpo-LHgt9yr"
      }
    },
    {
      "cell_type": "markdown",
      "source": [
        "### Instalações, Conectores e Bibliotecas"
      ],
      "metadata": {
        "id": "8oJUlQW_t501"
      }
    },
    {
      "cell_type": "code",
      "execution_count": 1,
      "metadata": {
        "colab": {
          "base_uri": "https://localhost:8080/"
        },
        "id": "NLqNG3SirlWV",
        "outputId": "618d9482-5759-40a3-b944-ee07f7b5c5c8"
      },
      "outputs": [
        {
          "output_type": "stream",
          "name": "stdout",
          "text": [
            "Looking in indexes: https://pypi.org/simple, https://us-python.pkg.dev/colab-wheels/public/simple/\n",
            "Collecting pyspark\n",
            "  Downloading pyspark-3.3.0.tar.gz (281.3 MB)\n",
            "\u001b[K     |████████████████████████████████| 281.3 MB 48 kB/s \n",
            "\u001b[?25hCollecting py4j==0.10.9.5\n",
            "  Downloading py4j-0.10.9.5-py2.py3-none-any.whl (199 kB)\n",
            "\u001b[K     |████████████████████████████████| 199 kB 59.0 MB/s \n",
            "\u001b[?25hBuilding wheels for collected packages: pyspark\n",
            "  Building wheel for pyspark (setup.py) ... \u001b[?25l\u001b[?25hdone\n",
            "  Created wheel for pyspark: filename=pyspark-3.3.0-py2.py3-none-any.whl size=281764026 sha256=c042d94f8992407789555c32b6336ce25989942bf4aaa53b423dbf2b71b3a3f4\n",
            "  Stored in directory: /root/.cache/pip/wheels/7a/8e/1b/f73a52650d2e5f337708d9f6a1750d451a7349a867f928b885\n",
            "Successfully built pyspark\n",
            "Installing collected packages: py4j, pyspark\n",
            "Successfully installed py4j-0.10.9.5 pyspark-3.3.0\n"
          ]
        }
      ],
      "source": [
        "!pip install pyspark"
      ]
    },
    {
      "cell_type": "code",
      "source": [
        "!pip install boto3"
      ],
      "metadata": {
        "colab": {
          "base_uri": "https://localhost:8080/"
        },
        "id": "zIpoC18oUuaN",
        "outputId": "81f938b3-7bd2-40aa-da7f-ec741b9edf1c"
      },
      "execution_count": 2,
      "outputs": [
        {
          "output_type": "stream",
          "name": "stdout",
          "text": [
            "Looking in indexes: https://pypi.org/simple, https://us-python.pkg.dev/colab-wheels/public/simple/\n",
            "Collecting boto3\n",
            "  Downloading boto3-1.24.91-py3-none-any.whl (132 kB)\n",
            "\u001b[K     |████████████████████████████████| 132 kB 5.3 MB/s \n",
            "\u001b[?25hCollecting s3transfer<0.7.0,>=0.6.0\n",
            "  Downloading s3transfer-0.6.0-py3-none-any.whl (79 kB)\n",
            "\u001b[K     |████████████████████████████████| 79 kB 7.1 MB/s \n",
            "\u001b[?25hCollecting botocore<1.28.0,>=1.27.91\n",
            "  Downloading botocore-1.27.91-py3-none-any.whl (9.2 MB)\n",
            "\u001b[K     |████████████████████████████████| 9.2 MB 39.9 MB/s \n",
            "\u001b[?25hCollecting jmespath<2.0.0,>=0.7.1\n",
            "  Downloading jmespath-1.0.1-py3-none-any.whl (20 kB)\n",
            "Collecting urllib3<1.27,>=1.25.4\n",
            "  Downloading urllib3-1.26.12-py2.py3-none-any.whl (140 kB)\n",
            "\u001b[K     |████████████████████████████████| 140 kB 24.4 MB/s \n",
            "\u001b[?25hRequirement already satisfied: python-dateutil<3.0.0,>=2.1 in /usr/local/lib/python3.7/dist-packages (from botocore<1.28.0,>=1.27.91->boto3) (2.8.2)\n",
            "Requirement already satisfied: six>=1.5 in /usr/local/lib/python3.7/dist-packages (from python-dateutil<3.0.0,>=2.1->botocore<1.28.0,>=1.27.91->boto3) (1.15.0)\n",
            "Installing collected packages: urllib3, jmespath, botocore, s3transfer, boto3\n",
            "  Attempting uninstall: urllib3\n",
            "    Found existing installation: urllib3 1.24.3\n",
            "    Uninstalling urllib3-1.24.3:\n",
            "      Successfully uninstalled urllib3-1.24.3\n",
            "\u001b[31mERROR: pip's dependency resolver does not currently take into account all the packages that are installed. This behaviour is the source of the following dependency conflicts.\n",
            "requests 2.23.0 requires urllib3!=1.25.0,!=1.25.1,<1.26,>=1.21.1, but you have urllib3 1.26.12 which is incompatible.\u001b[0m\n",
            "Successfully installed boto3-1.24.91 botocore-1.27.91 jmespath-1.0.1 s3transfer-0.6.0 urllib3-1.26.12\n"
          ]
        }
      ]
    },
    {
      "cell_type": "code",
      "source": [
        "!pip install s3fs"
      ],
      "metadata": {
        "colab": {
          "base_uri": "https://localhost:8080/"
        },
        "id": "JaSoa4GYa6fI",
        "outputId": "eb2ade86-07be-4fa4-9820-17c23ced3d1e"
      },
      "execution_count": 3,
      "outputs": [
        {
          "output_type": "stream",
          "name": "stdout",
          "text": [
            "Looking in indexes: https://pypi.org/simple, https://us-python.pkg.dev/colab-wheels/public/simple/\n",
            "Collecting s3fs\n",
            "  Downloading s3fs-2022.8.2-py3-none-any.whl (27 kB)\n",
            "Collecting aiobotocore~=2.4.0\n",
            "  Downloading aiobotocore-2.4.0-py3-none-any.whl (65 kB)\n",
            "\u001b[K     |████████████████████████████████| 65 kB 2.7 MB/s \n",
            "\u001b[?25hRequirement already satisfied: aiohttp!=4.0.0a0,!=4.0.0a1 in /usr/local/lib/python3.7/dist-packages (from s3fs) (3.8.3)\n",
            "Requirement already satisfied: fsspec==2022.8.2 in /usr/local/lib/python3.7/dist-packages (from s3fs) (2022.8.2)\n",
            "Collecting aioitertools>=0.5.1\n",
            "  Downloading aioitertools-0.11.0-py3-none-any.whl (23 kB)\n",
            "Requirement already satisfied: wrapt>=1.10.10 in /usr/local/lib/python3.7/dist-packages (from aiobotocore~=2.4.0->s3fs) (1.14.1)\n",
            "Collecting botocore<1.27.60,>=1.27.59\n",
            "  Downloading botocore-1.27.59-py3-none-any.whl (9.1 MB)\n",
            "\u001b[K     |████████████████████████████████| 9.1 MB 25.3 MB/s \n",
            "\u001b[?25hRequirement already satisfied: frozenlist>=1.1.1 in /usr/local/lib/python3.7/dist-packages (from aiohttp!=4.0.0a0,!=4.0.0a1->s3fs) (1.3.1)\n",
            "Requirement already satisfied: charset-normalizer<3.0,>=2.0 in /usr/local/lib/python3.7/dist-packages (from aiohttp!=4.0.0a0,!=4.0.0a1->s3fs) (2.1.1)\n",
            "Requirement already satisfied: attrs>=17.3.0 in /usr/local/lib/python3.7/dist-packages (from aiohttp!=4.0.0a0,!=4.0.0a1->s3fs) (22.1.0)\n",
            "Requirement already satisfied: asynctest==0.13.0 in /usr/local/lib/python3.7/dist-packages (from aiohttp!=4.0.0a0,!=4.0.0a1->s3fs) (0.13.0)\n",
            "Requirement already satisfied: yarl<2.0,>=1.0 in /usr/local/lib/python3.7/dist-packages (from aiohttp!=4.0.0a0,!=4.0.0a1->s3fs) (1.8.1)\n",
            "Requirement already satisfied: aiosignal>=1.1.2 in /usr/local/lib/python3.7/dist-packages (from aiohttp!=4.0.0a0,!=4.0.0a1->s3fs) (1.2.0)\n",
            "Requirement already satisfied: typing-extensions>=3.7.4 in /usr/local/lib/python3.7/dist-packages (from aiohttp!=4.0.0a0,!=4.0.0a1->s3fs) (4.1.1)\n",
            "Requirement already satisfied: async-timeout<5.0,>=4.0.0a3 in /usr/local/lib/python3.7/dist-packages (from aiohttp!=4.0.0a0,!=4.0.0a1->s3fs) (4.0.2)\n",
            "Requirement already satisfied: multidict<7.0,>=4.5 in /usr/local/lib/python3.7/dist-packages (from aiohttp!=4.0.0a0,!=4.0.0a1->s3fs) (6.0.2)\n",
            "Requirement already satisfied: urllib3<1.27,>=1.25.4 in /usr/local/lib/python3.7/dist-packages (from botocore<1.27.60,>=1.27.59->aiobotocore~=2.4.0->s3fs) (1.26.12)\n",
            "Requirement already satisfied: python-dateutil<3.0.0,>=2.1 in /usr/local/lib/python3.7/dist-packages (from botocore<1.27.60,>=1.27.59->aiobotocore~=2.4.0->s3fs) (2.8.2)\n",
            "Requirement already satisfied: jmespath<2.0.0,>=0.7.1 in /usr/local/lib/python3.7/dist-packages (from botocore<1.27.60,>=1.27.59->aiobotocore~=2.4.0->s3fs) (1.0.1)\n",
            "Requirement already satisfied: six>=1.5 in /usr/local/lib/python3.7/dist-packages (from python-dateutil<3.0.0,>=2.1->botocore<1.27.60,>=1.27.59->aiobotocore~=2.4.0->s3fs) (1.15.0)\n",
            "Requirement already satisfied: idna>=2.0 in /usr/local/lib/python3.7/dist-packages (from yarl<2.0,>=1.0->aiohttp!=4.0.0a0,!=4.0.0a1->s3fs) (2.10)\n",
            "Installing collected packages: botocore, aioitertools, aiobotocore, s3fs\n",
            "  Attempting uninstall: botocore\n",
            "    Found existing installation: botocore 1.27.91\n",
            "    Uninstalling botocore-1.27.91:\n",
            "      Successfully uninstalled botocore-1.27.91\n",
            "\u001b[31mERROR: pip's dependency resolver does not currently take into account all the packages that are installed. This behaviour is the source of the following dependency conflicts.\n",
            "boto3 1.24.91 requires botocore<1.28.0,>=1.27.91, but you have botocore 1.27.59 which is incompatible.\u001b[0m\n",
            "Successfully installed aiobotocore-2.4.0 aioitertools-0.11.0 botocore-1.27.59 s3fs-2022.8.2\n"
          ]
        }
      ]
    },
    {
      "cell_type": "code",
      "source": [
        "# Importação das bibliotecas\n",
        "\n",
        "import boto3\n",
        "import os\n",
        "from pyspark.sql import SparkSession\n",
        "from pyspark.sql.types import *\n",
        "import pyspark.sql.functions as F\n",
        "from pyspark.sql.functions import *"
      ],
      "metadata": {
        "id": "1oEk1rccsQeR"
      },
      "execution_count": 1,
      "outputs": []
    },
    {
      "cell_type": "code",
      "source": [
        "s3 = boto3.resource(\n",
        "    service_name='s3',\n",
        "    region_name='sa-east-1',\n",
        "    aws_access_key_id='usuario',\n",
        "    aws_secret_access_key= 'senha",
        "    )"
      ],
      "metadata": {
        "id": "HlD_ryGSVGm2"
      },
      "execution_count": 2,
      "outputs": []
    },
      "metadata": {
        "id": "DJRbZoE5bAdl"
      },
      "execution_count": 3,
      "outputs": []
    },
    {
      "cell_type": "code",
      "source": [
        "# Configuração da SparkSession\n",
        "\n",
        "spark = (SparkSession.builder\n",
        "         .master('local')\n",
        "         .appName('avaliacao_confitec')\n",
        "         .config('spark.ui.port', '4050')\n",
        "         .getOrCreate()\n",
        "         )\n",
        "\n",
        "spark"
      ],
      "metadata": {
        "id": "Jx_edsYDHhez",
        "colab": {
          "base_uri": "https://localhost:8080/",
          "height": 222
        },
        "outputId": "6b336619-0028-4690-b3e3-05927fe1281e"
      },
      "execution_count": 4,
      "outputs": [
        {
          "output_type": "execute_result",
          "data": {
            "text/plain": [
              "<pyspark.sql.session.SparkSession at 0x7f6d0b9b38d0>"
            ],
            "text/html": [
              "\n",
              "            <div>\n",
              "                <p><b>SparkSession - in-memory</b></p>\n",
              "                \n",
              "        <div>\n",
              "            <p><b>SparkContext</b></p>\n",
              "\n",
              "            <p><a href=\"http://87751fa9594f:4050\">Spark UI</a></p>\n",
              "\n",
              "            <dl>\n",
              "              <dt>Version</dt>\n",
              "                <dd><code>v3.3.0</code></dd>\n",
              "              <dt>Master</dt>\n",
              "                <dd><code>local</code></dd>\n",
              "              <dt>AppName</dt>\n",
              "                <dd><code>avaliacao_confitec</code></dd>\n",
              "            </dl>\n",
              "        </div>\n",
              "        \n",
              "            </div>\n",
              "        "
            ]
          },
          "metadata": {},
          "execution_count": 4
        }
      ]
    },
    {
      "cell_type": "markdown",
      "source": [
        "## Dataframe"
      ],
      "metadata": {
        "id": "nTQPtH7euUP-"
      }
    },
    {
      "cell_type": "code",
      "source": [
        "# Importação dos dados\n",
        "\n",
        "df = ( spark\n",
        "       .read\n",
        "       .format('parquet')\n",
        "       .option('header', 'true') \n",
        "       .option('inferschema', 'true')\n",
        "       .option('delimiter', ';')\n",
        "       .load('/content/OriginaisNetflix.parquet')\n",
        ")"
      ],
      "metadata": {
        "id": "apqWnphAHpdG"
      },
      "execution_count": 5,
      "outputs": []
    },
    {
      "cell_type": "code",
      "source": [
        "df.printSchema()"
      ],
      "metadata": {
        "colab": {
          "base_uri": "https://localhost:8080/"
        },
        "id": "Zu5MKXvzaq08",
        "outputId": "1ba5095a-7cd6-4547-b40e-1af4f9b61385"
      },
      "execution_count": 6,
      "outputs": [
        {
          "output_type": "stream",
          "name": "stdout",
          "text": [
            "root\n",
            " |-- Title: string (nullable = true)\n",
            " |-- Genre: string (nullable = true)\n",
            " |-- GenreLabels: string (nullable = true)\n",
            " |-- Premiere: string (nullable = true)\n",
            " |-- Seasons: string (nullable = true)\n",
            " |-- SeasonsParsed: long (nullable = true)\n",
            " |-- EpisodesParsed: long (nullable = true)\n",
            " |-- Length: string (nullable = true)\n",
            " |-- MinLength: long (nullable = true)\n",
            " |-- MaxLength: long (nullable = true)\n",
            " |-- Status: string (nullable = true)\n",
            " |-- Active: long (nullable = true)\n",
            " |-- Table: string (nullable = true)\n",
            " |-- Language: string (nullable = true)\n",
            " |-- dt_inclusao: string (nullable = true)\n",
            "\n"
          ]
        }
      ]
    },
    {
      "cell_type": "code",
      "source": [
        "# Escrevendo o nome das colunas\n",
        "\n",
        "colunas = []\n",
        "for i in df.columns:\n",
        "  colunas.append(i)\n",
        "  print(i)"
      ],
      "metadata": {
        "colab": {
          "base_uri": "https://localhost:8080/"
        },
        "id": "wp7gqXawYtZZ",
        "outputId": "14b45ee7-3fb0-49b2-df9a-cf84c5829902"
      },
      "execution_count": 7,
      "outputs": [
        {
          "output_type": "stream",
          "name": "stdout",
          "text": [
            "Title\n",
            "Genre\n",
            "GenreLabels\n",
            "Premiere\n",
            "Seasons\n",
            "SeasonsParsed\n",
            "EpisodesParsed\n",
            "Length\n",
            "MinLength\n",
            "MaxLength\n",
            "Status\n",
            "Active\n",
            "Table\n",
            "Language\n",
            "dt_inclusao\n"
          ]
        }
      ]
    },
    {
      "cell_type": "code",
      "source": [
        "# Alterando o nome das colunas \n",
        "\n",
        "colunasTrad = [\n",
        "                'Título',\n",
        "                'Gênero',\n",
        "                'RótulosGênero',\n",
        "                'Estreia',\n",
        "                'Temporadas',\n",
        "                'NúmeroTemporadas',\n",
        "                'NúmeroEpisódios',\n",
        "                'Duração',\n",
        "                'DuraçãoMin',\n",
        "                'DuraçãoMax',\n",
        "                'Status',\n",
        "                'Ativo',\n",
        "                'Rótulo',\n",
        "                'Linguagem',\n",
        "                'dt_inclusão'\n",
        "]\n",
        "\n",
        "for i in range(len(colunas)):\n",
        "  df = df.withColumnRenamed(colunas[i], colunasTrad[i])"
      ],
      "metadata": {
        "id": "bQqLt4BfIEWZ"
      },
      "execution_count": 8,
      "outputs": []
    },
    {
      "cell_type": "code",
      "source": [
        "# Conferindo as traduções\n",
        "\n",
        "df.show(1)"
      ],
      "metadata": {
        "colab": {
          "base_uri": "https://localhost:8080/"
        },
        "id": "MBnscfgifO79",
        "outputId": "fd1d2953-0f4d-4ab3-c037-3565f209166f"
      },
      "execution_count": 9,
      "outputs": [
        {
          "output_type": "stream",
          "name": "stdout",
          "text": [
            "+--------------+---------------+---------------+--------+--------------------+----------------+---------------+----------+----------+----------+------+-----+------+---------+--------------------+\n",
            "|        Título|         Gênero|  RótulosGênero| Estreia|          Temporadas|NúmeroTemporadas|NúmeroEpisódios|   Duração|DuraçãoMin|DuraçãoMax|Status|Ativo|Rótulo|Linguagem|         dt_inclusão|\n",
            "+--------------+---------------+---------------+--------+--------------------+----------------+---------------+----------+----------+----------+------+-----+------+---------+--------------------+\n",
            "|House of Cards|Political drama|political,drama|1-Feb-13|6 seasons, 73 epi...|               6|             73|42–59 min.|        42|        59| Ended|    0| Drama|  English|2021-03-16T21:20:...|\n",
            "+--------------+---------------+---------------+--------+--------------------+----------------+---------------+----------+----------+----------+------+-----+------+---------+--------------------+\n",
            "only showing top 1 row\n",
            "\n"
          ]
        }
      ]
    },
    {
      "cell_type": "code",
      "source": [
        "# Verificando duplicatas\n",
        "\n",
        "linhas_duplicadas = (df.count() - df.distinct().count())\n",
        "print(linhas_duplicadas)"
      ],
      "metadata": {
        "colab": {
          "base_uri": "https://localhost:8080/"
        },
        "id": "CQrK9E9SgPk_",
        "outputId": "24995592-600d-4100-fc1a-64f1874620de"
      },
      "execution_count": 10,
      "outputs": [
        {
          "output_type": "stream",
          "name": "stdout",
          "text": [
            "0\n"
          ]
        }
      ]
    },
    {
      "cell_type": "code",
      "source": [
        "# Criando coluna Data_de_Alteração \n",
        "\n",
        "df = df.withColumn('Data_de_Alteração', F.current_timestamp())"
      ],
      "metadata": {
        "id": "6BnuXrY55yHa"
      },
      "execution_count": 11,
      "outputs": []
    },
    {
      "cell_type": "code",
      "source": [
        "# Alterando TBA para 'a ser anunciado' na coluna Temporadas\n",
        "\n",
        "df = df.withColumn('Temporadas', regexp_replace('Temporadas', 'TBA', 'a ser anunciado'))"
      ],
      "metadata": {
        "id": "IRqBEBS0F9Zl"
      },
      "execution_count": 12,
      "outputs": []
    },
    {
      "cell_type": "code",
      "source": [
        "# Alterando a letra T para espaço da coluna dt_inclusão\n",
        "\n",
        "df = df.withColumn('dt_inclusão', regexp_replace('dt_inclusão', 'T', ' '))"
      ],
      "metadata": {
        "id": "ssKjibw5WO7Y"
      },
      "execution_count": 13,
      "outputs": []
    },
    {
      "cell_type": "code",
      "source": [
        "# Organizando o dataframe por Ativo e Gênero de forma decrescente\n",
        "\n",
        "df = df.orderBy(['Ativo','Gênero'], ascending = False)"
      ],
      "metadata": {
        "id": "2ifDDnxRINOR"
      },
      "execution_count": 14,
      "outputs": []
    },
    {
      "cell_type": "code",
      "source": [
        "# Conferindo alterações\n",
        "\n",
        "df.show(2)"
      ],
      "metadata": {
        "colab": {
          "base_uri": "https://localhost:8080/"
        },
        "id": "hL7BE5m78XHh",
        "outputId": "aa078412-eb32-4fc3-80fe-d5b656505cd0"
      },
      "execution_count": 15,
      "outputs": [
        {
          "output_type": "stream",
          "name": "stdout",
          "text": [
            "+--------------------+--------------------+--------------------+---------+--------------------+----------------+---------------+-------+----------+----------+-------+-----+--------+---------+--------------------+--------------------+\n",
            "|              Título|              Gênero|       RótulosGênero|  Estreia|          Temporadas|NúmeroTemporadas|NúmeroEpisódios|Duração|DuraçãoMin|DuraçãoMax| Status|Ativo|  Rótulo|Linguagem|         dt_inclusão|   Data_de_Alteração|\n",
            "+--------------------+--------------------+--------------------+---------+--------------------+----------------+---------------+-------+----------+----------+-------+-----+--------+---------+--------------------+--------------------+\n",
            "|Dance & Sing with...|chrildrens musica...|chrildrens,musica...|18-May-18|1 season, 11 epis...|               1|             11| 2 min.|         2|         2|Pending|    1|Children|  English|2021-03-16 21:20:...|2022-10-16 16:01:...|\n",
            "|          True Tunes|chrildrens musica...|chrildrens,musica...|12-Jul-19|     a ser anunciado|               0|              0|    TBA|         0|         0|Pending|    1|Children|  English|2021-03-16 21:20:...|2022-10-16 16:01:...|\n",
            "+--------------------+--------------------+--------------------+---------+--------------------+----------------+---------------+-------+----------+----------+-------+-----+--------+---------+--------------------+--------------------+\n",
            "only showing top 2 rows\n",
            "\n"
          ]
        }
      ]
    },
    {
      "cell_type": "code",
      "source": [
        "# Selecionado as colunas para o resultado final\n",
        "\n",
        "df_final = df.select( F.col('Título'), \n",
        "                      F.col('Gênero'),\n",
        "                      F.col('Temporadas'),\n",
        "                      F.col('Estreia'),\n",
        "                      F.col('Linguagem'),\n",
        "                      F.col('Ativo'),\n",
        "                      F.col('Status'),\n",
        "                      F.col('dt_inclusão'),\n",
        "                      F.col('Data_de_Alteração')\n",
        "                    )"
      ],
      "metadata": {
        "id": "PLW3SkVRaGVW"
      },
      "execution_count": 16,
      "outputs": []
    },
    {
      "cell_type": "code",
      "source": [
        "# Conferindo Seleção\n",
        "\n",
        "df_final.show(2)"
      ],
      "metadata": {
        "colab": {
          "base_uri": "https://localhost:8080/"
        },
        "id": "NithHi4leXvU",
        "outputId": "9c372f0a-0c49-48c1-b387-fdbec9a00682"
      },
      "execution_count": 17,
      "outputs": [
        {
          "output_type": "stream",
          "name": "stdout",
          "text": [
            "+--------------------+--------------------+--------------------+---------+---------+-----+-------+--------------------+--------------------+\n",
            "|              Título|              Gênero|          Temporadas|  Estreia|Linguagem|Ativo| Status|         dt_inclusão|   Data_de_Alteração|\n",
            "+--------------------+--------------------+--------------------+---------+---------+-----+-------+--------------------+--------------------+\n",
            "|Dance & Sing with...|chrildrens musica...|1 season, 11 epis...|18-May-18|  English|    1|Pending|2021-03-16 21:20:...|2022-10-16 16:01:...|\n",
            "|          True Tunes|chrildrens musica...|     a ser anunciado|12-Jul-19|  English|    1|Pending|2021-03-16 21:20:...|2022-10-16 16:01:...|\n",
            "+--------------------+--------------------+--------------------+---------+---------+-----+-------+--------------------+--------------------+\n",
            "only showing top 2 rows\n",
            "\n"
          ]
        }
      ]
    },
    {
      "cell_type": "code",
      "source": [
        "# Verificando Types\n",
        "\n",
        "df_final.printSchema()"
      ],
      "metadata": {
        "colab": {
          "base_uri": "https://localhost:8080/"
        },
        "id": "Ctn_-rzwkkn_",
        "outputId": "d05a5a3c-21ee-45d3-d65a-55dbf3b2d487"
      },
      "execution_count": 18,
      "outputs": [
        {
          "output_type": "stream",
          "name": "stdout",
          "text": [
            "root\n",
            " |-- Título: string (nullable = true)\n",
            " |-- Gênero: string (nullable = true)\n",
            " |-- Temporadas: string (nullable = true)\n",
            " |-- Estreia: string (nullable = true)\n",
            " |-- Linguagem: string (nullable = true)\n",
            " |-- Ativo: long (nullable = true)\n",
            " |-- Status: string (nullable = true)\n",
            " |-- dt_inclusão: string (nullable = true)\n",
            " |-- Data_de_Alteração: timestamp (nullable = false)\n",
            "\n"
          ]
        }
      ]
    },
    {
      "cell_type": "code",
      "source": [
        "# Ajustando a coluna dt_inclusão para date\n",
        "\n",
        "df_final = df_final.withColumn(\"date_type\",to_date(\"dt_inclusão\"))"
      ],
      "metadata": {
        "id": "JN4klv2IY9bz"
      },
      "execution_count": 19,
      "outputs": []
    },
    {
      "cell_type": "code",
      "source": [
        "# Copiando os dados da coluna 'date_type' para dentro de 'dt_inclusão' para manter a posicao da data\n",
        "\n",
        "df_final = df_final.withColumn('dt_inclusão', F.col('date_type'))"
      ],
      "metadata": {
        "id": "dyPAxtfJyN-N"
      },
      "execution_count": 20,
      "outputs": []
    },
    {
      "cell_type": "code",
      "source": [
        "# Drop da coluna auxiliar 'date_type'\n",
        "\n",
        "df_final = df_final.drop(F.col('date_type'))"
      ],
      "metadata": {
        "id": "ADx0Qc3Sx_H-"
      },
      "execution_count": 21,
      "outputs": []
    },
    {
      "cell_type": "code",
      "source": [
        "# Conferindo Seleção\n",
        "\n",
        "df_final.show(2)"
      ],
      "metadata": {
        "colab": {
          "base_uri": "https://localhost:8080/"
        },
        "id": "VxEnaO85zVeV",
        "outputId": "9ce9e292-d4f2-4ea9-b5c6-6fc94528592e"
      },
      "execution_count": 22,
      "outputs": [
        {
          "output_type": "stream",
          "name": "stdout",
          "text": [
            "+--------------------+--------------------+--------------------+---------+---------+-----+-------+-----------+--------------------+\n",
            "|              Título|              Gênero|          Temporadas|  Estreia|Linguagem|Ativo| Status|dt_inclusão|   Data_de_Alteração|\n",
            "+--------------------+--------------------+--------------------+---------+---------+-----+-------+-----------+--------------------+\n",
            "|Dance & Sing with...|chrildrens musica...|1 season, 11 epis...|18-May-18|  English|    1|Pending| 2021-03-16|2022-10-16 16:01:...|\n",
            "|          True Tunes|chrildrens musica...|     a ser anunciado|12-Jul-19|  English|    1|Pending| 2021-03-16|2022-10-16 16:01:...|\n",
            "+--------------------+--------------------+--------------------+---------+---------+-----+-------+-----------+--------------------+\n",
            "only showing top 2 rows\n",
            "\n"
          ]
        }
      ]
    },
    {
      "cell_type": "code",
      "source": [
        "# Ajustando Estreia para o formato correto\n",
        "\n",
        "df_final = df_final.withColumn('Dia', F.substring(F.col('Estreia'), 1, 2))\\\n",
        "                   .withColumn('Mes', F.substring(F.col('Estreia'), -6, 3))\\\n",
        "                   .withColumn('Ano', F.substring(F.col('Estreia'), -2, 2))"
      ],
      "metadata": {
        "id": "RL2JRRZdeLgt"
      },
      "execution_count": 23,
      "outputs": []
    },
    {
      "cell_type": "code",
      "source": [
        "# Removendo \"-\" da nova coluna Dia para ajuste da data\n",
        "\n",
        "df_final = df_final.withColumn('Dia', regexp_replace('Dia', '-', ''))"
      ],
      "metadata": {
        "id": "kn39-seNhOuO"
      },
      "execution_count": 25,
      "outputs": []
    },
    {
      "cell_type": "code",
      "source": [
        "df_final.show(2)"
      ],
      "metadata": {
        "colab": {
          "base_uri": "https://localhost:8080/"
        },
        "id": "9SUX3JWNhTT4",
        "outputId": "315bc72c-f017-4caf-8f29-6d4c3afdd5cf"
      },
      "execution_count": 26,
      "outputs": [
        {
          "output_type": "stream",
          "name": "stdout",
          "text": [
            "+--------------------+--------------------+--------------------+---------+---------+-----+-------+-----------+--------------------+---+---+---+\n",
            "|              Título|              Gênero|          Temporadas|  Estreia|Linguagem|Ativo| Status|dt_inclusão|   Data_de_Alteração|Dia|Mes|Ano|\n",
            "+--------------------+--------------------+--------------------+---------+---------+-----+-------+-----------+--------------------+---+---+---+\n",
            "|Dance & Sing with...|chrildrens musica...|1 season, 11 epis...|18-May-18|  English|    1|Pending| 2021-03-16|2022-10-16 16:01:...| 18|May| 18|\n",
            "|          True Tunes|chrildrens musica...|     a ser anunciado|12-Jul-19|  English|    1|Pending| 2021-03-16|2022-10-16 16:01:...| 12|Jul| 19|\n",
            "+--------------------+--------------------+--------------------+---------+---------+-----+-------+-----------+--------------------+---+---+---+\n",
            "only showing top 2 rows\n",
            "\n"
          ]
        }
      ]
    },
    {
      "cell_type": "code",
      "source": [
        "# Alterando os meses para numeros, ex. Jan = 01\n",
        "\n",
        "nomeano = [\n",
        "            'Jan',\n",
        "            'Feb',\n",
        "            'Mar',\n",
        "            'Apr',\n",
        "            'May',\n",
        "            'Jun',\n",
        "            'Jul',\n",
        "            'Aug',\n",
        "            'Sep',\n",
        "            'Oct',\n",
        "            'Nov',\n",
        "            'Dec'\n",
        "]\n",
        "numeroano = [\n",
        "            '01',\n",
        "            '02',\n",
        "            '03',\n",
        "            '04',\n",
        "            '05',\n",
        "            '06',\n",
        "            '07',\n",
        "            '08',\n",
        "            '09',\n",
        "            '10',\n",
        "            '11',\n",
        "            '12'\n",
        "]\n",
        "\n",
        "for i in range(len(nomeano)):\n",
        "  df_final = df_final.withColumn('Mes', regexp_replace('Mes', nomeano[i], numeroano[i]))"
      ],
      "metadata": {
        "id": "ugUvL9npesqu"
      },
      "execution_count": 27,
      "outputs": []
    },
    {
      "cell_type": "code",
      "source": [
        "# Conferindo Mês\n",
        "\n",
        "df_final.show(5)"
      ],
      "metadata": {
        "colab": {
          "base_uri": "https://localhost:8080/"
        },
        "id": "MchARDbjixqI",
        "outputId": "8b015d6a-4a38-4013-9c2d-26fc52e786b8"
      },
      "execution_count": 28,
      "outputs": [
        {
          "output_type": "stream",
          "name": "stdout",
          "text": [
            "+--------------------+--------------------+--------------------+---------+---------+-----+-------+-----------+--------------------+---+---+---+\n",
            "|              Título|              Gênero|          Temporadas|  Estreia|Linguagem|Ativo| Status|dt_inclusão|   Data_de_Alteração|Dia|Mes|Ano|\n",
            "+--------------------+--------------------+--------------------+---------+---------+-----+-------+-----------+--------------------+---+---+---+\n",
            "|Super Monsters Mo...|chrildrens musica...|1 season, 4 episodes|14-Sep-18|  English|    1|Pending| 2021-03-16|2022-10-16 16:02:...| 14| 09| 18|\n",
            "|Dance & Sing with...|chrildrens musica...|1 season, 11 epis...|18-May-18|  English|    1|Pending| 2021-03-16|2022-10-16 16:02:...| 18| 05| 18|\n",
            "|          True Tunes|chrildrens musica...|     a ser anunciado|12-Jul-19|  English|    1|Pending| 2021-03-16|2022-10-16 16:02:...| 12| 07| 19|\n",
            "|  Spirit Riding Free| childrens-animation|8 seasons, 52 epi...| 5-May-17|  English|    1|Pending| 2021-03-16|2022-10-16 16:02:...|  5| 05| 17|\n",
            "|         Llama Llama| childrens-animation|1 season, 15 epis...|26-Jan-18|  English|    1|Renewed| 2021-03-16|2022-10-16 16:02:...| 26| 01| 18|\n",
            "+--------------------+--------------------+--------------------+---------+---------+-----+-------+-----------+--------------------+---+---+---+\n",
            "only showing top 5 rows\n",
            "\n"
          ]
        }
      ]
    },
    {
      "cell_type": "code",
      "source": [
        "# Concatenando datas\n",
        "\n",
        "df_final = df_final.withColumn('data_junta', F.concat_ws('-', F.col('ano'), F.col('mes'), F.col('dia')))"
      ],
      "metadata": {
        "id": "51kWQsHFjemm"
      },
      "execution_count": 29,
      "outputs": []
    },
    {
      "cell_type": "code",
      "source": [
        "df_final.show(5)"
      ],
      "metadata": {
        "colab": {
          "base_uri": "https://localhost:8080/"
        },
        "id": "TxtABn8XjjZC",
        "outputId": "cdaf7264-fa19-4324-8f3d-44207d073eb7"
      },
      "execution_count": 30,
      "outputs": [
        {
          "output_type": "stream",
          "name": "stdout",
          "text": [
            "+--------------------+--------------------+--------------------+---------+---------+-----+-------+-----------+--------------------+---+---+---+----------+\n",
            "|              Título|              Gênero|          Temporadas|  Estreia|Linguagem|Ativo| Status|dt_inclusão|   Data_de_Alteração|Dia|Mes|Ano|data_junta|\n",
            "+--------------------+--------------------+--------------------+---------+---------+-----+-------+-----------+--------------------+---+---+---+----------+\n",
            "|Super Monsters Mo...|chrildrens musica...|1 season, 4 episodes|14-Sep-18|  English|    1|Pending| 2021-03-16|2022-10-16 16:02:...| 14| 09| 18|  18-09-14|\n",
            "|Dance & Sing with...|chrildrens musica...|1 season, 11 epis...|18-May-18|  English|    1|Pending| 2021-03-16|2022-10-16 16:02:...| 18| 05| 18|  18-05-18|\n",
            "|          True Tunes|chrildrens musica...|     a ser anunciado|12-Jul-19|  English|    1|Pending| 2021-03-16|2022-10-16 16:02:...| 12| 07| 19|  19-07-12|\n",
            "|  Spirit Riding Free| childrens-animation|8 seasons, 52 epi...| 5-May-17|  English|    1|Pending| 2021-03-16|2022-10-16 16:02:...|  5| 05| 17|   17-05-5|\n",
            "|         Llama Llama| childrens-animation|1 season, 15 epis...|26-Jan-18|  English|    1|Renewed| 2021-03-16|2022-10-16 16:02:...| 26| 01| 18|  18-01-26|\n",
            "+--------------------+--------------------+--------------------+---------+---------+-----+-------+-----------+--------------------+---+---+---+----------+\n",
            "only showing top 5 rows\n",
            "\n"
          ]
        }
      ]
    },
    {
      "cell_type": "code",
      "source": [
        "# Ajustando datas\n",
        "\n",
        "df_final = df_final.withColumn('Dia',F.when( F.col('Dia') < 10, F.concat(F.lit('0'),F.col('Dia'))).otherwise(F.col('Dia')))"
      ],
      "metadata": {
        "id": "cTWCmikNB6uN"
      },
      "execution_count": 31,
      "outputs": []
    },
    {
      "cell_type": "code",
      "source": [
        "df_final = df_final.withColumn('data_junta',F.concat(F.lit('20'),F.col('Ano'),F.lit('-'),F.col('Mes'),F.lit('-'),F.col('Dia')))"
      ],
      "metadata": {
        "id": "i_ayeHKHB9Ft"
      },
      "execution_count": 32,
      "outputs": []
    },
    {
      "cell_type": "code",
      "source": [
        "df_final.show(5)"
      ],
      "metadata": {
        "colab": {
          "base_uri": "https://localhost:8080/"
        },
        "id": "rPGRI-VYDrnW",
        "outputId": "3cccfd21-3f50-427b-9a70-fa7f9e00dab5"
      },
      "execution_count": 33,
      "outputs": [
        {
          "output_type": "stream",
          "name": "stdout",
          "text": [
            "+--------------------+--------------------+--------------------+---------+---------+-----+-------+-----------+--------------------+---+---+---+----------+\n",
            "|              Título|              Gênero|          Temporadas|  Estreia|Linguagem|Ativo| Status|dt_inclusão|   Data_de_Alteração|Dia|Mes|Ano|data_junta|\n",
            "+--------------------+--------------------+--------------------+---------+---------+-----+-------+-----------+--------------------+---+---+---+----------+\n",
            "|Dance & Sing with...|chrildrens musica...|1 season, 11 epis...|18-May-18|  English|    1|Pending| 2021-03-16|2022-10-16 16:02:...| 18| 05| 18|2018-05-18|\n",
            "|Super Monsters Mo...|chrildrens musica...|1 season, 4 episodes|14-Sep-18|  English|    1|Pending| 2021-03-16|2022-10-16 16:02:...| 14| 09| 18|2018-09-14|\n",
            "|          True Tunes|chrildrens musica...|     a ser anunciado|12-Jul-19|  English|    1|Pending| 2021-03-16|2022-10-16 16:02:...| 12| 07| 19|2019-07-12|\n",
            "|          Word Party| childrens-animation|3 seasons, 40 epi...| 8-Jul-16|  English|    1|Renewed| 2021-03-16|2022-10-16 16:02:...| 08| 07| 16|2016-07-08|\n",
            "|   Ask the StoryBots| childrens-animation|2 seasons, 14 epi...|12-Aug-16|  English|    1|Renewed| 2021-03-16|2022-10-16 16:02:...| 12| 08| 16|2016-08-12|\n",
            "+--------------------+--------------------+--------------------+---------+---------+-----+-------+-----------+--------------------+---+---+---+----------+\n",
            "only showing top 5 rows\n",
            "\n"
          ]
        }
      ]
    },
    {
      "cell_type": "code",
      "source": [
        "# Validando datas para datetype\n",
        "\n",
        "df_final = df_final.withColumn('data_junta',df_final['data_junta'].cast(DateType()))"
      ],
      "metadata": {
        "id": "K0aXFd2LrpdX"
      },
      "execution_count": 35,
      "outputs": []
    },
    {
      "cell_type": "code",
      "source": [
        "# Removendo \",\" da coluna Título e Temporadas \n",
        "\n",
        "df_final = df_final.withColumn('Título', regexp_replace('Título', ',', ' -'))\n",
        "df_final = df_final.withColumn('Temporadas', regexp_replace('Temporadas', ',', ' -'))"
      ],
      "metadata": {
        "id": "yL9Qs8MceI9Q"
      },
      "execution_count": 37,
      "outputs": []
    },
    {
      "cell_type": "code",
      "source": [
        "# Ajustando data da coluna estreia\n",
        "\n",
        "df_final = df_final.withColumn('Estreia', F.col('data_junta'))"
      ],
      "metadata": {
        "id": "Ah5FNbjf0zDt"
      },
      "execution_count": 38,
      "outputs": []
    },
    {
      "cell_type": "code",
      "source": [
        "# Drop das colunas auxiliares\n",
        "\n",
        "df_final = df_final.drop(F.col('Dia'))\\\n",
        "                   .drop(F.col('Mes'))\\\n",
        "                   .drop(F.col('Ano'))\\\n",
        "                   .drop(F.col('data_junta'))"
      ],
      "metadata": {
        "id": "VLGyfJ3m0lfE"
      },
      "execution_count": 39,
      "outputs": []
    },
    {
      "cell_type": "code",
      "source": [
        "# Verificação final\n",
        "\n",
        "df_final.printSchema()"
      ],
      "metadata": {
        "colab": {
          "base_uri": "https://localhost:8080/"
        },
        "id": "Ou0B4kZ8jmz1",
        "outputId": "4beff8dd-3741-434d-fe69-594b0cbd73d9"
      },
      "execution_count": 40,
      "outputs": [
        {
          "output_type": "stream",
          "name": "stdout",
          "text": [
            "root\n",
            " |-- Título: string (nullable = true)\n",
            " |-- Gênero: string (nullable = true)\n",
            " |-- Temporadas: string (nullable = true)\n",
            " |-- Estreia: date (nullable = true)\n",
            " |-- Linguagem: string (nullable = true)\n",
            " |-- Ativo: long (nullable = true)\n",
            " |-- Status: string (nullable = true)\n",
            " |-- dt_inclusão: date (nullable = true)\n",
            " |-- Data_de_Alteração: timestamp (nullable = false)\n",
            "\n"
          ]
        }
      ]
    },
    {
      "cell_type": "code",
      "source": [
        "df_final.show(2)"
      ],
      "metadata": {
        "colab": {
          "base_uri": "https://localhost:8080/"
        },
        "id": "Q-6wY-zL4tNE",
        "outputId": "7daea287-ba27-48b1-8047-e5975c00efa8"
      },
      "execution_count": 47,
      "outputs": [
        {
          "output_type": "stream",
          "name": "stdout",
          "text": [
            "+--------------------+--------------------+--------------------+----------+---------+-----+-------+-----------+--------------------+\n",
            "|              Título|              Gênero|          Temporadas|   Estreia|Linguagem|Ativo| Status|dt_inclusão|   Data_de_Alteração|\n",
            "+--------------------+--------------------+--------------------+----------+---------+-----+-------+-----------+--------------------+\n",
            "|Dance & Sing with...|chrildrens musica...|1 season - 11 epi...|2018-05-18|  English|    1|Pending| 2021-03-16|2022-10-16 16:04:...|\n",
            "|Super Monsters Mo...|chrildrens musica...|1 season - 4 epis...|2018-09-14|  English|    1|Pending| 2021-03-16|2022-10-16 16:04:...|\n",
            "+--------------------+--------------------+--------------------+----------+---------+-----+-------+-----------+--------------------+\n",
            "only showing top 2 rows\n",
            "\n"
          ]
        }
      ]
    },
    {
      "cell_type": "code",
      "source": [
        "# Salvando localmente o arquivo\n",
        "\n",
        "df_final.write.csv('Avaliação Confitec', header=True, sep=';')"
      ],
      "metadata": {
        "id": "mKRXt4DDZ4V-"
      },
      "execution_count": 42,
      "outputs": []
    },
    {
      "cell_type": "code",
      "source": [
        "# Conferindo conectividade do bucket\n",
        "\n",
        "for bucket in s3.buckets.all():\n",
        "  print(bucket.name)"
      ],
      "metadata": {
        "colab": {
          "base_uri": "https://localhost:8080/"
        },
        "id": "z6KSw-ZjWxe2",
        "outputId": "07a93a17-c360-4af4-db44-79c2b8bf1f2e"
      },
      "execution_count": 52,
      "outputs": [
        {
          "output_type": "stream",
          "name": "stdout",
          "text": [
            "avaliacao-confitec-leandro\n"
          ]
        }
      ]
    },
    {
      "cell_type": "code",
      "source": [
        "# Salvando o arquivo no bucket\n",
        "\n",
        "s3.Bucket('avaliacao-confitec-leandro').upload_file(Filename='/content/Avaliação Confitec/part-00000-5a91a887-0a8b-4326-8db6-99bc0f310cd4-c000.csv', Key='Avaliação Confitec/part-00000-5a91a887-0a8b-4326-8db6-99bc0f310cd4-c000.csv')"
      ],
      "metadata": {
        "id": "kef6hgdlbqZL"
      },
      "execution_count": 49,
      "outputs": []
    },
    {
      "cell_type": "code",
      "source": [
        "# Confirmando o arquivo dentro do bucket\n",
        "\n",
        "for obj in s3.Bucket('avaliacao-confitec-leandro').objects.all():\n",
        "  print(obj)"
      ],
      "metadata": {
        "colab": {
          "base_uri": "https://localhost:8080/"
        },
        "id": "iT92mt67dO5s",
        "outputId": "d14fea3a-3156-4d22-f12b-e8a9921c6dee"
      },
      "execution_count": 53,
      "outputs": [
        {
          "output_type": "stream",
          "name": "stdout",
          "text": [
            "s3.ObjectSummary(bucket_name='avaliacao-confitec-leandro', key='Avaliação Confitec/part-00000-5a91a887-0a8b-4326-8db6-99bc0f310cd4-c000.csv')\n"
          ]
        }
      ]
    },
    {
      "cell_type": "markdown",
      "source": [
        "## Extra"
      ],
      "metadata": {
        "id": "rwDlzX88epvz"
      }
    },
    {
      "cell_type": "markdown",
      "source": [
        "### Melhoria continua\n",
        "\n",
        "Priorização cliente "
      ],
      "metadata": {
        "id": "WvZc7TOSTqER"
      }
    },
    {
      "cell_type": "code",
      "source": [
        "# Verificando inconsistências - valores Únicos no topo e final das colunas\n",
        "\n",
        "for i in range(len(colunasTrad)):\n",
        "  df.select(F.col(colunasTrad[i])).distinct().orderBy(colunasTrad[i], ascending=True).show(10)"
      ],
      "metadata": {
        "id": "23CW-m1WgyHL",
        "colab": {
          "base_uri": "https://localhost:8080/"
        },
        "outputId": "034d59e1-c0a3-48dc-dcc2-04ae409ab143"
      },
      "execution_count": 42,
      "outputs": [
        {
          "output_type": "stream",
          "name": "stdout",
          "text": [
            "+--------------------+\n",
            "|              Título|\n",
            "+--------------------+\n",
            "|                0.03|\n",
            "|      13 Reasons Why|\n",
            "|13 Reasons Why: B...|\n",
            "|                1983|\n",
            "|                1994|\n",
            "|3Below: Tales of ...|\n",
            "|          7 Days Out|\n",
            "|             7 Seeds|\n",
            "|72 Dangerous Anim...|\n",
            "|72 Dangerous Anim...|\n",
            "+--------------------+\n",
            "only showing top 10 rows\n",
            "\n",
            "+--------------------+\n",
            "|              Gênero|\n",
            "+--------------------+\n",
            "|              Action|\n",
            "|       Action comedy|\n",
            "|           Aftershow|\n",
            "|           Anthology|\n",
            "|  Baking competition|\n",
            "|           Biography|\n",
            "|  Black comedy-drama|\n",
            "|Black-comedy mystery|\n",
            "|           Celebrity|\n",
            "|              Comedy|\n",
            "+--------------------+\n",
            "only showing top 10 rows\n",
            "\n",
            "+--------------------+\n",
            "|       RótulosGênero|\n",
            "+--------------------+\n",
            "|              action|\n",
            "|       action,comedy|\n",
            "|           aftershow|\n",
            "|           anthology|\n",
            "|  baking,competition|\n",
            "|           biography|\n",
            "|  black,comedy-drama|\n",
            "|black-comedy,mystery|\n",
            "|           celebrity|\n",
            "| childrens-animation|\n",
            "+--------------------+\n",
            "only showing top 10 rows\n",
            "\n",
            "+--------+\n",
            "| Estreia|\n",
            "+--------+\n",
            "|1-Apr-16|\n",
            "|1-Apr-19|\n",
            "|1-Aug-18|\n",
            "|1-Dec-17|\n",
            "|1-Feb-13|\n",
            "|1-Feb-19|\n",
            "|1-Jan-19|\n",
            "|1-Jun-18|\n",
            "|1-Mar-19|\n",
            "|1-Sep-17|\n",
            "+--------+\n",
            "only showing top 10 rows\n",
            "\n",
            "+--------------------+\n",
            "|          Temporadas|\n",
            "+--------------------+\n",
            "|1 collection, 8 e...|\n",
            "| 1 part, 10 episodes|\n",
            "| 1 part, 13 episodes|\n",
            "|1 season, 10 epis...|\n",
            "|1 season, 11 epis...|\n",
            "|1 season, 12 epis...|\n",
            "|1 season, 13 epis...|\n",
            "|1 season, 15 epis...|\n",
            "|1 season, 20 epis...|\n",
            "|1 season, 21 epis...|\n",
            "+--------------------+\n",
            "only showing top 10 rows\n",
            "\n",
            "+----------------+\n",
            "|NúmeroTemporadas|\n",
            "+----------------+\n",
            "|               0|\n",
            "|               1|\n",
            "|               2|\n",
            "|               3|\n",
            "|               4|\n",
            "|               5|\n",
            "|               6|\n",
            "|               8|\n",
            "+----------------+\n",
            "\n",
            "+---------------+\n",
            "|NúmeroEpisódios|\n",
            "+---------------+\n",
            "|              0|\n",
            "|              2|\n",
            "|              3|\n",
            "|              4|\n",
            "|              5|\n",
            "|              6|\n",
            "|              7|\n",
            "|              8|\n",
            "|              9|\n",
            "|             10|\n",
            "+---------------+\n",
            "only showing top 10 rows\n",
            "\n",
            "+----------+\n",
            "|   Duração|\n",
            "+----------+\n",
            "|11–14 min.|\n",
            "|12–17 min.|\n",
            "|12–21 min.|\n",
            "|12–23 min.|\n",
            "|12–35 min.|\n",
            "|   13 min.|\n",
            "|13–14 min.|\n",
            "|13–15 min.|\n",
            "|13–17 min.|\n",
            "|13–24 min.|\n",
            "+----------+\n",
            "only showing top 10 rows\n",
            "\n",
            "+----------+\n",
            "|DuraçãoMin|\n",
            "+----------+\n",
            "|         0|\n",
            "|         2|\n",
            "|         6|\n",
            "|         8|\n",
            "|         9|\n",
            "|        11|\n",
            "|        12|\n",
            "|        13|\n",
            "|        14|\n",
            "|        15|\n",
            "+----------+\n",
            "only showing top 10 rows\n",
            "\n",
            "+----------+\n",
            "|DuraçãoMax|\n",
            "+----------+\n",
            "|         0|\n",
            "|         2|\n",
            "|         7|\n",
            "|         8|\n",
            "|        12|\n",
            "|        13|\n",
            "|        14|\n",
            "|        15|\n",
            "|        17|\n",
            "|        18|\n",
            "+----------+\n",
            "only showing top 10 rows\n",
            "\n",
            "+----------+\n",
            "|    Status|\n",
            "+----------+\n",
            "|     Ended|\n",
            "|Miniseries|\n",
            "|   Pending|\n",
            "|   Renewed|\n",
            "+----------+\n",
            "\n",
            "+-----+\n",
            "|Ativo|\n",
            "+-----+\n",
            "|    0|\n",
            "|    1|\n",
            "+-----+\n",
            "\n",
            "+---------------+\n",
            "|         Rótulo|\n",
            "+---------------+\n",
            "|      Animation|\n",
            "|          Anime|\n",
            "|       Children|\n",
            "|         Comedy|\n",
            "|     DocuSeries|\n",
            "|          Drama|\n",
            "|ForeignLanguage|\n",
            "|         Marvel|\n",
            "|        Reality|\n",
            "|    VarietyTalk|\n",
            "+---------------+\n",
            "\n",
            "+---------+\n",
            "|Linguagem|\n",
            "+---------+\n",
            "|   Arabic|\n",
            "|   Danish|\n",
            "|  English|\n",
            "|   French|\n",
            "|   German|\n",
            "|    Hindi|\n",
            "|  Italian|\n",
            "| Japanese|\n",
            "|   Korean|\n",
            "|   Polish|\n",
            "+---------+\n",
            "only showing top 10 rows\n",
            "\n",
            "+--------------------+\n",
            "|         dt_inclusão|\n",
            "+--------------------+\n",
            "|2021-03-16 21:20:...|\n",
            "+--------------------+\n",
            "\n"
          ]
        }
      ]
    },
    {
      "cell_type": "code",
      "source": [
        "for i in range(len(colunasTrad)):\n",
        "  df.select(F.col(colunasTrad[i])).distinct().orderBy(colunasTrad[i], ascending=False).show(10)"
      ],
      "metadata": {
        "id": "y3f1cjdMhXQO",
        "colab": {
          "base_uri": "https://localhost:8080/"
        },
        "outputId": "70607d7e-7cc2-4168-94bb-645cf56bf0d5"
      },
      "execution_count": 45,
      "outputs": [
        {
          "output_type": "stream",
          "name": "stdout",
          "text": [
            "+--------------------+\n",
            "|              Título|\n",
            "+--------------------+\n",
            "|               Élite|\n",
            "|        You vs. Wild|\n",
            "|YooHoo to the Rescue|\n",
            "|              Yankee|\n",
            "|YG Future Strateg...|\n",
            "|            Wormwood|\n",
            "|       World of Winx|\n",
            "|          Word Party|\n",
            "|   Wild Wild Country|\n",
            "|       Wild District|\n",
            "+--------------------+\n",
            "only showing top 10 rows\n",
            "\n",
            "+--------------------+\n",
            "|              Gênero|\n",
            "+--------------------+\n",
            "|chrildrens musica...|\n",
            "| childrens-animation|\n",
            "|        Zombie drama|\n",
            "|             Western|\n",
            "|        Variety show|\n",
            "|          True crime|\n",
            "|  Travel documentary|\n",
            "|      Thriller drama|\n",
            "|            Thriller|\n",
            "|Teen psychologica...|\n",
            "+--------------------+\n",
            "only showing top 10 rows\n",
            "\n",
            "+--------------------+\n",
            "|       RótulosGênero|\n",
            "+--------------------+\n",
            "|        zombie,drama|\n",
            "|             western|\n",
            "|        variety,show|\n",
            "|          true,crime|\n",
            "|  travel,documentary|\n",
            "|      thriller,drama|\n",
            "|            thriller|\n",
            "|teen,psychologica...|\n",
            "|  teen,drama,mystery|\n",
            "|          teen,drama|\n",
            "+--------------------+\n",
            "only showing top 10 rows\n",
            "\n",
            "+--------+\n",
            "| Estreia|\n",
            "+--------+\n",
            "|9-Oct-15|\n",
            "|9-Nov-18|\n",
            "|9-Mar-18|\n",
            "|9-Jun-17|\n",
            "|9-Dec-16|\n",
            "|9-Aug-19|\n",
            "|8-Sep-17|\n",
            "|8-May-15|\n",
            "|8-Mar-19|\n",
            "|8-Jun-18|\n",
            "+--------+\n",
            "only showing top 10 rows\n",
            "\n",
            "+--------------------+\n",
            "|          Temporadas|\n",
            "+--------------------+\n",
            "|     a ser anunciado|\n",
            "|8 seasons, 78 epi...|\n",
            "|8 seasons, 52 epi...|\n",
            "|          8 episodes|\n",
            "|          7 episodes|\n",
            "|6 volumes, 30 epi...|\n",
            "|6 seasons, 78 epi...|\n",
            "|6 seasons, 73 epi...|\n",
            "|6 seasons, 38 epi...|\n",
            "|6 parts, 60 episodes|\n",
            "+--------------------+\n",
            "only showing top 10 rows\n",
            "\n",
            "+----------------+\n",
            "|NúmeroTemporadas|\n",
            "+----------------+\n",
            "|               8|\n",
            "|               6|\n",
            "|               5|\n",
            "|               4|\n",
            "|               3|\n",
            "|               2|\n",
            "|               1|\n",
            "|               0|\n",
            "+----------------+\n",
            "\n",
            "+---------------+\n",
            "|NúmeroEpisódios|\n",
            "+---------------+\n",
            "|            120|\n",
            "|             78|\n",
            "|             73|\n",
            "|             65|\n",
            "|             61|\n",
            "|             60|\n",
            "|             57|\n",
            "|             52|\n",
            "|             51|\n",
            "|             45|\n",
            "+---------------+\n",
            "only showing top 10 rows\n",
            "\n",
            "+-----------+\n",
            "|    Duração|\n",
            "+-----------+\n",
            "|        TBA|\n",
            "|  9–14 min.|\n",
            "|  9–12 min.|\n",
            "|88–102 min.|\n",
            "| 86–94 min.|\n",
            "|     8 min.|\n",
            "| 75–98 min.|\n",
            "|   6–7 min.|\n",
            "|  6–17 min.|\n",
            "| 64–88 min.|\n",
            "+-----------+\n",
            "only showing top 10 rows\n",
            "\n",
            "+----------+\n",
            "|DuraçãoMin|\n",
            "+----------+\n",
            "|        88|\n",
            "|        86|\n",
            "|        75|\n",
            "|        64|\n",
            "|        62|\n",
            "|        59|\n",
            "|        56|\n",
            "|        55|\n",
            "|        54|\n",
            "|        53|\n",
            "+----------+\n",
            "only showing top 10 rows\n",
            "\n",
            "+----------+\n",
            "|DuraçãoMax|\n",
            "+----------+\n",
            "|       152|\n",
            "|       102|\n",
            "|        98|\n",
            "|        94|\n",
            "|        93|\n",
            "|        92|\n",
            "|        88|\n",
            "|        85|\n",
            "|        84|\n",
            "|        80|\n",
            "+----------+\n",
            "only showing top 10 rows\n",
            "\n",
            "+----------+\n",
            "|    Status|\n",
            "+----------+\n",
            "|   Renewed|\n",
            "|   Pending|\n",
            "|Miniseries|\n",
            "|     Ended|\n",
            "+----------+\n",
            "\n",
            "+-----+\n",
            "|Ativo|\n",
            "+-----+\n",
            "|    1|\n",
            "|    0|\n",
            "+-----+\n",
            "\n",
            "+---------------+\n",
            "|         Rótulo|\n",
            "+---------------+\n",
            "|    VarietyTalk|\n",
            "|        Reality|\n",
            "|         Marvel|\n",
            "|ForeignLanguage|\n",
            "|          Drama|\n",
            "|     DocuSeries|\n",
            "|         Comedy|\n",
            "|       Children|\n",
            "|          Anime|\n",
            "|      Animation|\n",
            "+---------------+\n",
            "\n",
            "+----------+\n",
            "| Linguagem|\n",
            "+----------+\n",
            "|   Turkish|\n",
            "|   Swedish|\n",
            "|   Spanish|\n",
            "|Portuguese|\n",
            "|    Polish|\n",
            "|    Korean|\n",
            "|  Japanese|\n",
            "|   Italian|\n",
            "|     Hindi|\n",
            "|    German|\n",
            "+----------+\n",
            "only showing top 10 rows\n",
            "\n",
            "+--------------------+\n",
            "|         dt_inclusão|\n",
            "+--------------------+\n",
            "|2021-03-16 21:20:...|\n",
            "+--------------------+\n",
            "\n"
          ]
        }
      ]
    },
    {
      "cell_type": "code",
      "source": [
        "'''\n",
        "Possíveis tratamentos\n",
        "\n",
        "Duração - TBA na coluna \n",
        "Temporadas - part,parts, collection, volumes (alterar para seasson?)\n",
        "Titulo - Alguns programas tem nomes \"errados\" ex. 3% esta escrito como 0.03\n",
        "\n",
        "'''"
      ],
      "metadata": {
        "id": "3yEEFB7ZTpy6",
        "colab": {
          "base_uri": "https://localhost:8080/",
          "height": 36
        },
        "outputId": "a74474d0-8429-4a89-af4f-5d21aab3c9ee"
      },
      "execution_count": 44,
      "outputs": [
        {
          "output_type": "execute_result",
          "data": {
            "text/plain": [
              "'\\nPossíveis tratamentos\\n\\nDuração - TBA na coluna \\nTemporadas - part,parts, collection, volumes (alterar para seasson?)\\nTitulo - Alguns programas tem nomes \"errados\" ex. 3% esta escrito como 0.03\\n\\n'"
            ],
            "application/vnd.google.colaboratory.intrinsic+json": {
              "type": "string"
            }
          },
          "metadata": {},
          "execution_count": 44
        }
      ]
    }
  ]
}
